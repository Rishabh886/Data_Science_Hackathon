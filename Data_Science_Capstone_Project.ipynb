{
 "cells": [
  {
   "cell_type": "markdown",
   "id": "239873a6",
   "metadata": {},
   "source": [
    "### Importing Libraries"
   ]
  },
  {
   "cell_type": "code",
   "execution_count": 1,
   "id": "9a801176",
   "metadata": {},
   "outputs": [],
   "source": [
    "import numpy as np\n",
    "import pandas as pd\n",
    "import matplotlib.pyplot as plt\n",
    "import seaborn as sns\n",
    "import warnings\n",
    "warnings.filterwarnings('ignore')\n",
    "from sklearn.impute import SimpleImputer\n",
    "from sklearn.preprocessing import OneHotEncoder, MinMaxScaler\n",
    "from sklearn.model_selection import train_test_split\n",
    "from sklearn.linear_model import LinearRegression\n",
    "from sklearn.tree import DecisionTreeRegressor\n",
    "from sklearn.ensemble import RandomForestRegressor, GradientBoostingRegressor, AdaBoostRegressor\n",
    "from sklearn.svm import SVR\n",
    "from sklearn.neighbors import KNeighborsRegressor\n",
    "from sklearn.model_selection import GridSearchCV, RandomizedSearchCV\n",
    "from sklearn.metrics import mean_squared_error"
   ]
  },
  {
   "cell_type": "code",
   "execution_count": 2,
   "id": "9c559b23",
   "metadata": {},
   "outputs": [],
   "source": [
    "df = pd.read_csv(\"train.csv\")"
   ]
  },
  {
   "cell_type": "code",
   "execution_count": 3,
   "id": "02e817a9",
   "metadata": {},
   "outputs": [
    {
     "data": {
      "text/html": [
       "<div>\n",
       "<style scoped>\n",
       "    .dataframe tbody tr th:only-of-type {\n",
       "        vertical-align: middle;\n",
       "    }\n",
       "\n",
       "    .dataframe tbody tr th {\n",
       "        vertical-align: top;\n",
       "    }\n",
       "\n",
       "    .dataframe thead th {\n",
       "        text-align: right;\n",
       "    }\n",
       "</style>\n",
       "<table border=\"1\" class=\"dataframe\">\n",
       "  <thead>\n",
       "    <tr style=\"text-align: right;\">\n",
       "      <th></th>\n",
       "      <th>id</th>\n",
       "      <th>title</th>\n",
       "      <th>Rating</th>\n",
       "      <th>maincateg</th>\n",
       "      <th>platform</th>\n",
       "      <th>price1</th>\n",
       "      <th>actprice1</th>\n",
       "      <th>Offer %</th>\n",
       "      <th>norating1</th>\n",
       "      <th>noreviews1</th>\n",
       "      <th>star_5f</th>\n",
       "      <th>star_4f</th>\n",
       "      <th>star_3f</th>\n",
       "      <th>star_2f</th>\n",
       "      <th>star_1f</th>\n",
       "      <th>fulfilled1</th>\n",
       "    </tr>\n",
       "  </thead>\n",
       "  <tbody>\n",
       "    <tr>\n",
       "      <th>0</th>\n",
       "      <td>16695</td>\n",
       "      <td>Fashionable &amp; Comfortable Bellies For Women  (...</td>\n",
       "      <td>3.9</td>\n",
       "      <td>Women</td>\n",
       "      <td>Flipkart</td>\n",
       "      <td>698</td>\n",
       "      <td>999</td>\n",
       "      <td>30.13%</td>\n",
       "      <td>38.0</td>\n",
       "      <td>7.0</td>\n",
       "      <td>17.0</td>\n",
       "      <td>9.0</td>\n",
       "      <td>6.0</td>\n",
       "      <td>3</td>\n",
       "      <td>3</td>\n",
       "      <td>0</td>\n",
       "    </tr>\n",
       "    <tr>\n",
       "      <th>1</th>\n",
       "      <td>5120</td>\n",
       "      <td>Combo Pack of 4 Casual Shoes Sneakers For Men ...</td>\n",
       "      <td>3.8</td>\n",
       "      <td>Men</td>\n",
       "      <td>Flipkart</td>\n",
       "      <td>999</td>\n",
       "      <td>1999</td>\n",
       "      <td>50.03%</td>\n",
       "      <td>531.0</td>\n",
       "      <td>69.0</td>\n",
       "      <td>264.0</td>\n",
       "      <td>92.0</td>\n",
       "      <td>73.0</td>\n",
       "      <td>29</td>\n",
       "      <td>73</td>\n",
       "      <td>1</td>\n",
       "    </tr>\n",
       "    <tr>\n",
       "      <th>2</th>\n",
       "      <td>18391</td>\n",
       "      <td>Cilia Mode Leo Sneakers For Women  (White)</td>\n",
       "      <td>4.4</td>\n",
       "      <td>Women</td>\n",
       "      <td>Flipkart</td>\n",
       "      <td>2749</td>\n",
       "      <td>4999</td>\n",
       "      <td>45.01%</td>\n",
       "      <td>17.0</td>\n",
       "      <td>4.0</td>\n",
       "      <td>11.0</td>\n",
       "      <td>3.0</td>\n",
       "      <td>2.0</td>\n",
       "      <td>1</td>\n",
       "      <td>0</td>\n",
       "      <td>1</td>\n",
       "    </tr>\n",
       "    <tr>\n",
       "      <th>3</th>\n",
       "      <td>495</td>\n",
       "      <td>Men Black Sports Sandal</td>\n",
       "      <td>4.2</td>\n",
       "      <td>Men</td>\n",
       "      <td>Flipkart</td>\n",
       "      <td>518</td>\n",
       "      <td>724</td>\n",
       "      <td>15.85%</td>\n",
       "      <td>46413.0</td>\n",
       "      <td>6229.0</td>\n",
       "      <td>1045.0</td>\n",
       "      <td>12416.0</td>\n",
       "      <td>5352.0</td>\n",
       "      <td>701</td>\n",
       "      <td>4595</td>\n",
       "      <td>1</td>\n",
       "    </tr>\n",
       "    <tr>\n",
       "      <th>4</th>\n",
       "      <td>16408</td>\n",
       "      <td>Men Green Sports Sandal</td>\n",
       "      <td>3.9</td>\n",
       "      <td>Men</td>\n",
       "      <td>Flipkart</td>\n",
       "      <td>1379</td>\n",
       "      <td>2299</td>\n",
       "      <td>40.02%</td>\n",
       "      <td>77.0</td>\n",
       "      <td>3.0</td>\n",
       "      <td>35.0</td>\n",
       "      <td>21.0</td>\n",
       "      <td>7.0</td>\n",
       "      <td>7</td>\n",
       "      <td>7</td>\n",
       "      <td>1</td>\n",
       "    </tr>\n",
       "    <tr>\n",
       "      <th>5</th>\n",
       "      <td>2692</td>\n",
       "      <td>Women Pink Flats Sandal</td>\n",
       "      <td>4.1</td>\n",
       "      <td>Women</td>\n",
       "      <td>Flipkart</td>\n",
       "      <td>359</td>\n",
       "      <td>499</td>\n",
       "      <td>28.06%</td>\n",
       "      <td>274.0</td>\n",
       "      <td>25.0</td>\n",
       "      <td>153.0</td>\n",
       "      <td>49.0</td>\n",
       "      <td>34.0</td>\n",
       "      <td>15</td>\n",
       "      <td>23</td>\n",
       "      <td>0</td>\n",
       "    </tr>\n",
       "    <tr>\n",
       "      <th>6</th>\n",
       "      <td>3236</td>\n",
       "      <td>Women Navy Heels Sandal</td>\n",
       "      <td>4.0</td>\n",
       "      <td>Women</td>\n",
       "      <td>Flipkart</td>\n",
       "      <td>499</td>\n",
       "      <td>999</td>\n",
       "      <td>50.05%</td>\n",
       "      <td>249.0</td>\n",
       "      <td>31.0</td>\n",
       "      <td>130.0</td>\n",
       "      <td>52.0</td>\n",
       "      <td>27.0</td>\n",
       "      <td>9</td>\n",
       "      <td>28</td>\n",
       "      <td>1</td>\n",
       "    </tr>\n",
       "    <tr>\n",
       "      <th>7</th>\n",
       "      <td>14633</td>\n",
       "      <td>Women Blue Wedges Sandal</td>\n",
       "      <td>3.9</td>\n",
       "      <td>Women</td>\n",
       "      <td>Flipkart</td>\n",
       "      <td>209</td>\n",
       "      <td>1299</td>\n",
       "      <td>83.91%</td>\n",
       "      <td>121.0</td>\n",
       "      <td>17.0</td>\n",
       "      <td>63.0</td>\n",
       "      <td>25.0</td>\n",
       "      <td>14.0</td>\n",
       "      <td>9</td>\n",
       "      <td>12</td>\n",
       "      <td>0</td>\n",
       "    </tr>\n",
       "    <tr>\n",
       "      <th>8</th>\n",
       "      <td>1872</td>\n",
       "      <td>Sneakers For Women  (Pink)</td>\n",
       "      <td>4.2</td>\n",
       "      <td>Women</td>\n",
       "      <td>Flipkart</td>\n",
       "      <td>549</td>\n",
       "      <td>999</td>\n",
       "      <td>45.05%</td>\n",
       "      <td>191.0</td>\n",
       "      <td>30.0</td>\n",
       "      <td>120.0</td>\n",
       "      <td>25.0</td>\n",
       "      <td>31.0</td>\n",
       "      <td>7</td>\n",
       "      <td>12</td>\n",
       "      <td>1</td>\n",
       "    </tr>\n",
       "    <tr>\n",
       "      <th>9</th>\n",
       "      <td>1668</td>\n",
       "      <td>Men Black, Beige Sandal</td>\n",
       "      <td>4.1</td>\n",
       "      <td>Men</td>\n",
       "      <td>Flipkart</td>\n",
       "      <td>809</td>\n",
       "      <td>899</td>\n",
       "      <td>10.01%</td>\n",
       "      <td>36126.0</td>\n",
       "      <td>5028.0</td>\n",
       "      <td>18688.0</td>\n",
       "      <td>9899.0</td>\n",
       "      <td>3709.0</td>\n",
       "      <td>1272</td>\n",
       "      <td>2558</td>\n",
       "      <td>0</td>\n",
       "    </tr>\n",
       "    <tr>\n",
       "      <th>10</th>\n",
       "      <td>12634</td>\n",
       "      <td>TEMPO Men's Combo Pack of 3 Synthetic Loafers ...</td>\n",
       "      <td>3.3</td>\n",
       "      <td>Men</td>\n",
       "      <td>Amazon</td>\n",
       "      <td>999</td>\n",
       "      <td>999</td>\n",
       "      <td>0.00%</td>\n",
       "      <td>222.0</td>\n",
       "      <td>147.0</td>\n",
       "      <td>26.0</td>\n",
       "      <td>4.0</td>\n",
       "      <td>18.0</td>\n",
       "      <td>15</td>\n",
       "      <td>37</td>\n",
       "      <td>1</td>\n",
       "    </tr>\n",
       "    <tr>\n",
       "      <th>11</th>\n",
       "      <td>19065</td>\n",
       "      <td>Women Gold Heels Sandal</td>\n",
       "      <td>4.0</td>\n",
       "      <td>Women</td>\n",
       "      <td>Flipkart</td>\n",
       "      <td>599</td>\n",
       "      <td>1299</td>\n",
       "      <td>53.89%</td>\n",
       "      <td>22.0</td>\n",
       "      <td>3.0</td>\n",
       "      <td>12.0</td>\n",
       "      <td>3.0</td>\n",
       "      <td>4.0</td>\n",
       "      <td>1</td>\n",
       "      <td>2</td>\n",
       "      <td>1</td>\n",
       "    </tr>\n",
       "    <tr>\n",
       "      <th>12</th>\n",
       "      <td>17455</td>\n",
       "      <td>Flip Flops</td>\n",
       "      <td>4.1</td>\n",
       "      <td>Women</td>\n",
       "      <td>Flipkart</td>\n",
       "      <td>299</td>\n",
       "      <td>599</td>\n",
       "      <td>50.08%</td>\n",
       "      <td>41.0</td>\n",
       "      <td>9.0</td>\n",
       "      <td>19.0</td>\n",
       "      <td>13.0</td>\n",
       "      <td>5.0</td>\n",
       "      <td>3</td>\n",
       "      <td>1</td>\n",
       "      <td>1</td>\n",
       "    </tr>\n",
       "    <tr>\n",
       "      <th>13</th>\n",
       "      <td>7526</td>\n",
       "      <td>Slippers</td>\n",
       "      <td>4.4</td>\n",
       "      <td>Women</td>\n",
       "      <td>Flipkart</td>\n",
       "      <td>599</td>\n",
       "      <td>1199</td>\n",
       "      <td>50.04%</td>\n",
       "      <td>101.0</td>\n",
       "      <td>16.0</td>\n",
       "      <td>68.0</td>\n",
       "      <td>20.0</td>\n",
       "      <td>5.0</td>\n",
       "      <td>5</td>\n",
       "      <td>3</td>\n",
       "      <td>1</td>\n",
       "    </tr>\n",
       "    <tr>\n",
       "      <th>14</th>\n",
       "      <td>15555</td>\n",
       "      <td>adilette CF+ logo Slides</td>\n",
       "      <td>4.5</td>\n",
       "      <td>Men</td>\n",
       "      <td>Flipkart</td>\n",
       "      <td>1979</td>\n",
       "      <td>3599</td>\n",
       "      <td>45.01%</td>\n",
       "      <td>141.0</td>\n",
       "      <td>12.0</td>\n",
       "      <td>98.0</td>\n",
       "      <td>25.0</td>\n",
       "      <td>8.0</td>\n",
       "      <td>4</td>\n",
       "      <td>6</td>\n",
       "      <td>1</td>\n",
       "    </tr>\n",
       "    <tr>\n",
       "      <th>15</th>\n",
       "      <td>18031</td>\n",
       "      <td>Men Black, Blue Sports Sandal</td>\n",
       "      <td>4.2</td>\n",
       "      <td>Men</td>\n",
       "      <td>Flipkart</td>\n",
       "      <td>999</td>\n",
       "      <td>1999</td>\n",
       "      <td>50.03%</td>\n",
       "      <td>732.0</td>\n",
       "      <td>99.0</td>\n",
       "      <td>378.0</td>\n",
       "      <td>230.0</td>\n",
       "      <td>70.0</td>\n",
       "      <td>24</td>\n",
       "      <td>30</td>\n",
       "      <td>1</td>\n",
       "    </tr>\n",
       "    <tr>\n",
       "      <th>16</th>\n",
       "      <td>9354</td>\n",
       "      <td>Men Tan Sandal</td>\n",
       "      <td>4.0</td>\n",
       "      <td>Men</td>\n",
       "      <td>Flipkart</td>\n",
       "      <td>379</td>\n",
       "      <td>999</td>\n",
       "      <td>62.06%</td>\n",
       "      <td>138.0</td>\n",
       "      <td>24.0</td>\n",
       "      <td>68.0</td>\n",
       "      <td>30.0</td>\n",
       "      <td>16.0</td>\n",
       "      <td>14</td>\n",
       "      <td>10</td>\n",
       "      <td>0</td>\n",
       "    </tr>\n",
       "    <tr>\n",
       "      <th>17</th>\n",
       "      <td>17732</td>\n",
       "      <td>Perfect Stylish Girls High Ankle Boots For Wom...</td>\n",
       "      <td>4.2</td>\n",
       "      <td>Women</td>\n",
       "      <td>Flipkart</td>\n",
       "      <td>399</td>\n",
       "      <td>999</td>\n",
       "      <td>60.06%</td>\n",
       "      <td>9305.0</td>\n",
       "      <td>1619.0</td>\n",
       "      <td>5660.0</td>\n",
       "      <td>1711.0</td>\n",
       "      <td>921.0</td>\n",
       "      <td>319</td>\n",
       "      <td>694</td>\n",
       "      <td>1</td>\n",
       "    </tr>\n",
       "    <tr>\n",
       "      <th>18</th>\n",
       "      <td>4549</td>\n",
       "      <td>Perfect Stylish Girls Casual Shoes Sneakers Fo...</td>\n",
       "      <td>3.9</td>\n",
       "      <td>Women</td>\n",
       "      <td>Flipkart</td>\n",
       "      <td>399</td>\n",
       "      <td>999</td>\n",
       "      <td>60.06%</td>\n",
       "      <td>1353.0</td>\n",
       "      <td>202.0</td>\n",
       "      <td>698.0</td>\n",
       "      <td>258.0</td>\n",
       "      <td>174.0</td>\n",
       "      <td>77</td>\n",
       "      <td>146</td>\n",
       "      <td>0</td>\n",
       "    </tr>\n",
       "    <tr>\n",
       "      <th>19</th>\n",
       "      <td>12336</td>\n",
       "      <td>Women Beige Heels Sandal</td>\n",
       "      <td>4.0</td>\n",
       "      <td>NaN</td>\n",
       "      <td>Flipkart</td>\n",
       "      <td>499</td>\n",
       "      <td>999</td>\n",
       "      <td>50.05%</td>\n",
       "      <td>NaN</td>\n",
       "      <td>NaN</td>\n",
       "      <td>28.0</td>\n",
       "      <td>9.0</td>\n",
       "      <td>10.0</td>\n",
       "      <td>2</td>\n",
       "      <td>5</td>\n",
       "      <td>0</td>\n",
       "    </tr>\n",
       "  </tbody>\n",
       "</table>\n",
       "</div>"
      ],
      "text/plain": [
       "       id                                              title  Rating  \\\n",
       "0   16695  Fashionable & Comfortable Bellies For Women  (...     3.9   \n",
       "1    5120  Combo Pack of 4 Casual Shoes Sneakers For Men ...     3.8   \n",
       "2   18391         Cilia Mode Leo Sneakers For Women  (White)     4.4   \n",
       "3     495                            Men Black Sports Sandal     4.2   \n",
       "4   16408                            Men Green Sports Sandal     3.9   \n",
       "5    2692                            Women Pink Flats Sandal     4.1   \n",
       "6    3236                            Women Navy Heels Sandal     4.0   \n",
       "7   14633                           Women Blue Wedges Sandal     3.9   \n",
       "8    1872                         Sneakers For Women  (Pink)     4.2   \n",
       "9    1668                            Men Black, Beige Sandal     4.1   \n",
       "10  12634  TEMPO Men's Combo Pack of 3 Synthetic Loafers ...     3.3   \n",
       "11  19065                            Women Gold Heels Sandal     4.0   \n",
       "12  17455                                         Flip Flops     4.1   \n",
       "13   7526                                           Slippers     4.4   \n",
       "14  15555                           adilette CF+ logo Slides     4.5   \n",
       "15  18031                      Men Black, Blue Sports Sandal     4.2   \n",
       "16   9354                                     Men Tan Sandal     4.0   \n",
       "17  17732  Perfect Stylish Girls High Ankle Boots For Wom...     4.2   \n",
       "18   4549  Perfect Stylish Girls Casual Shoes Sneakers Fo...     3.9   \n",
       "19  12336                           Women Beige Heels Sandal     4.0   \n",
       "\n",
       "   maincateg  platform  price1  actprice1 Offer %  norating1  noreviews1  \\\n",
       "0      Women  Flipkart     698        999  30.13%       38.0         7.0   \n",
       "1        Men  Flipkart     999       1999  50.03%      531.0        69.0   \n",
       "2      Women  Flipkart    2749       4999  45.01%       17.0         4.0   \n",
       "3        Men  Flipkart     518        724  15.85%    46413.0      6229.0   \n",
       "4        Men  Flipkart    1379       2299  40.02%       77.0         3.0   \n",
       "5      Women  Flipkart     359        499  28.06%      274.0        25.0   \n",
       "6      Women  Flipkart     499        999  50.05%      249.0        31.0   \n",
       "7      Women  Flipkart     209       1299  83.91%      121.0        17.0   \n",
       "8      Women  Flipkart     549        999  45.05%      191.0        30.0   \n",
       "9        Men  Flipkart     809        899  10.01%    36126.0      5028.0   \n",
       "10       Men    Amazon     999        999   0.00%      222.0       147.0   \n",
       "11     Women  Flipkart     599       1299  53.89%       22.0         3.0   \n",
       "12     Women  Flipkart     299        599  50.08%       41.0         9.0   \n",
       "13     Women  Flipkart     599       1199  50.04%      101.0        16.0   \n",
       "14       Men  Flipkart    1979       3599  45.01%      141.0        12.0   \n",
       "15       Men  Flipkart     999       1999  50.03%      732.0        99.0   \n",
       "16       Men  Flipkart     379        999  62.06%      138.0        24.0   \n",
       "17     Women  Flipkart     399        999  60.06%     9305.0      1619.0   \n",
       "18     Women  Flipkart     399        999  60.06%     1353.0       202.0   \n",
       "19       NaN  Flipkart     499        999  50.05%        NaN         NaN   \n",
       "\n",
       "    star_5f  star_4f  star_3f  star_2f  star_1f  fulfilled1  \n",
       "0      17.0      9.0      6.0        3        3           0  \n",
       "1     264.0     92.0     73.0       29       73           1  \n",
       "2      11.0      3.0      2.0        1        0           1  \n",
       "3    1045.0  12416.0   5352.0      701     4595           1  \n",
       "4      35.0     21.0      7.0        7        7           1  \n",
       "5     153.0     49.0     34.0       15       23           0  \n",
       "6     130.0     52.0     27.0        9       28           1  \n",
       "7      63.0     25.0     14.0        9       12           0  \n",
       "8     120.0     25.0     31.0        7       12           1  \n",
       "9   18688.0   9899.0   3709.0     1272     2558           0  \n",
       "10     26.0      4.0     18.0       15       37           1  \n",
       "11     12.0      3.0      4.0        1        2           1  \n",
       "12     19.0     13.0      5.0        3        1           1  \n",
       "13     68.0     20.0      5.0        5        3           1  \n",
       "14     98.0     25.0      8.0        4        6           1  \n",
       "15    378.0    230.0     70.0       24       30           1  \n",
       "16     68.0     30.0     16.0       14       10           0  \n",
       "17   5660.0   1711.0    921.0      319      694           1  \n",
       "18    698.0    258.0    174.0       77      146           0  \n",
       "19     28.0      9.0     10.0        2        5           0  "
      ]
     },
     "execution_count": 3,
     "metadata": {},
     "output_type": "execute_result"
    }
   ],
   "source": [
    "pd.set_option('display.max_columns', None)\n",
    "df.head(20)"
   ]
  },
  {
   "cell_type": "code",
   "execution_count": 4,
   "id": "9aa4d3ab",
   "metadata": {},
   "outputs": [
    {
     "data": {
      "text/plain": [
       "(15730, 16)"
      ]
     },
     "execution_count": 4,
     "metadata": {},
     "output_type": "execute_result"
    }
   ],
   "source": [
    "df.shape"
   ]
  },
  {
   "cell_type": "code",
   "execution_count": 5,
   "id": "45d5e73d",
   "metadata": {},
   "outputs": [
    {
     "name": "stdout",
     "output_type": "stream",
     "text": [
      "<class 'pandas.core.frame.DataFrame'>\n",
      "RangeIndex: 15730 entries, 0 to 15729\n",
      "Data columns (total 16 columns):\n",
      " #   Column      Non-Null Count  Dtype  \n",
      "---  ------      --------------  -----  \n",
      " 0   id          15730 non-null  int64  \n",
      " 1   title       15730 non-null  object \n",
      " 2   Rating      15730 non-null  float64\n",
      " 3   maincateg   15204 non-null  object \n",
      " 4   platform    15730 non-null  object \n",
      " 5   price1      15730 non-null  int64  \n",
      " 6   actprice1   15730 non-null  int64  \n",
      " 7   Offer %     15730 non-null  object \n",
      " 8   norating1   15052 non-null  float64\n",
      " 9   noreviews1  15152 non-null  float64\n",
      " 10  star_5f     15142 non-null  float64\n",
      " 11  star_4f     15191 non-null  float64\n",
      " 12  star_3f     15499 non-null  float64\n",
      " 13  star_2f     15730 non-null  int64  \n",
      " 14  star_1f     15730 non-null  int64  \n",
      " 15  fulfilled1  15730 non-null  int64  \n",
      "dtypes: float64(6), int64(6), object(4)\n",
      "memory usage: 1.9+ MB\n"
     ]
    }
   ],
   "source": [
    "df.info()"
   ]
  },
  {
   "cell_type": "code",
   "execution_count": 6,
   "id": "6e57106a",
   "metadata": {},
   "outputs": [],
   "source": [
    "# There is no significance of keeping id, and offer(%) columns in dataset, therefore removing these columns.\n",
    "df.drop(columns=['id','Offer %'],inplace=True)"
   ]
  },
  {
   "cell_type": "code",
   "execution_count": 7,
   "id": "4b0e3de4",
   "metadata": {},
   "outputs": [],
   "source": [
    "df.drop_duplicates(inplace=True)"
   ]
  },
  {
   "cell_type": "code",
   "execution_count": 8,
   "id": "17ea69e4",
   "metadata": {},
   "outputs": [
    {
     "data": {
      "text/plain": [
       "(12146, 14)"
      ]
     },
     "execution_count": 8,
     "metadata": {},
     "output_type": "execute_result"
    }
   ],
   "source": [
    "df.shape"
   ]
  },
  {
   "cell_type": "code",
   "execution_count": 9,
   "id": "4e2ed750",
   "metadata": {},
   "outputs": [
    {
     "data": {
      "text/html": [
       "<div>\n",
       "<style scoped>\n",
       "    .dataframe tbody tr th:only-of-type {\n",
       "        vertical-align: middle;\n",
       "    }\n",
       "\n",
       "    .dataframe tbody tr th {\n",
       "        vertical-align: top;\n",
       "    }\n",
       "\n",
       "    .dataframe thead th {\n",
       "        text-align: right;\n",
       "    }\n",
       "</style>\n",
       "<table border=\"1\" class=\"dataframe\">\n",
       "  <thead>\n",
       "    <tr style=\"text-align: right;\">\n",
       "      <th></th>\n",
       "      <th>Rating</th>\n",
       "      <th>price1</th>\n",
       "      <th>actprice1</th>\n",
       "      <th>norating1</th>\n",
       "      <th>noreviews1</th>\n",
       "      <th>star_5f</th>\n",
       "      <th>star_4f</th>\n",
       "      <th>star_3f</th>\n",
       "      <th>star_2f</th>\n",
       "      <th>star_1f</th>\n",
       "      <th>fulfilled1</th>\n",
       "    </tr>\n",
       "  </thead>\n",
       "  <tbody>\n",
       "    <tr>\n",
       "      <th>count</th>\n",
       "      <td>12146.000000</td>\n",
       "      <td>12146.000000</td>\n",
       "      <td>12146.000000</td>\n",
       "      <td>11470.000000</td>\n",
       "      <td>11570.000000</td>\n",
       "      <td>11560.000000</td>\n",
       "      <td>11608.000000</td>\n",
       "      <td>11915.000000</td>\n",
       "      <td>12146.000000</td>\n",
       "      <td>12146.000000</td>\n",
       "      <td>12146.000000</td>\n",
       "    </tr>\n",
       "    <tr>\n",
       "      <th>mean</th>\n",
       "      <td>4.013404</td>\n",
       "      <td>686.098551</td>\n",
       "      <td>1375.208464</td>\n",
       "      <td>3133.618832</td>\n",
       "      <td>433.690579</td>\n",
       "      <td>1614.651038</td>\n",
       "      <td>671.278515</td>\n",
       "      <td>367.815191</td>\n",
       "      <td>159.684341</td>\n",
       "      <td>282.424255</td>\n",
       "      <td>0.602338</td>\n",
       "    </tr>\n",
       "    <tr>\n",
       "      <th>std</th>\n",
       "      <td>0.297640</td>\n",
       "      <td>656.845549</td>\n",
       "      <td>1251.216150</td>\n",
       "      <td>12263.105583</td>\n",
       "      <td>1835.598768</td>\n",
       "      <td>6367.243061</td>\n",
       "      <td>2970.722922</td>\n",
       "      <td>1452.210048</td>\n",
       "      <td>579.489444</td>\n",
       "      <td>989.539144</td>\n",
       "      <td>0.489435</td>\n",
       "    </tr>\n",
       "    <tr>\n",
       "      <th>min</th>\n",
       "      <td>0.000000</td>\n",
       "      <td>69.000000</td>\n",
       "      <td>42.000000</td>\n",
       "      <td>1.000000</td>\n",
       "      <td>0.000000</td>\n",
       "      <td>0.000000</td>\n",
       "      <td>0.000000</td>\n",
       "      <td>0.000000</td>\n",
       "      <td>0.000000</td>\n",
       "      <td>0.000000</td>\n",
       "      <td>0.000000</td>\n",
       "    </tr>\n",
       "    <tr>\n",
       "      <th>25%</th>\n",
       "      <td>3.900000</td>\n",
       "      <td>349.000000</td>\n",
       "      <td>699.000000</td>\n",
       "      <td>66.000000</td>\n",
       "      <td>9.000000</td>\n",
       "      <td>31.000000</td>\n",
       "      <td>12.000000</td>\n",
       "      <td>7.000000</td>\n",
       "      <td>3.000000</td>\n",
       "      <td>6.000000</td>\n",
       "      <td>0.000000</td>\n",
       "    </tr>\n",
       "    <tr>\n",
       "      <th>50%</th>\n",
       "      <td>4.000000</td>\n",
       "      <td>474.000000</td>\n",
       "      <td>999.000000</td>\n",
       "      <td>306.500000</td>\n",
       "      <td>43.000000</td>\n",
       "      <td>151.000000</td>\n",
       "      <td>60.000000</td>\n",
       "      <td>34.000000</td>\n",
       "      <td>17.000000</td>\n",
       "      <td>29.000000</td>\n",
       "      <td>1.000000</td>\n",
       "    </tr>\n",
       "    <tr>\n",
       "      <th>75%</th>\n",
       "      <td>4.200000</td>\n",
       "      <td>679.000000</td>\n",
       "      <td>1299.000000</td>\n",
       "      <td>1544.500000</td>\n",
       "      <td>215.000000</td>\n",
       "      <td>790.000000</td>\n",
       "      <td>308.000000</td>\n",
       "      <td>173.000000</td>\n",
       "      <td>78.000000</td>\n",
       "      <td>141.000000</td>\n",
       "      <td>1.000000</td>\n",
       "    </tr>\n",
       "    <tr>\n",
       "      <th>max</th>\n",
       "      <td>5.000000</td>\n",
       "      <td>5998.000000</td>\n",
       "      <td>13499.000000</td>\n",
       "      <td>289973.000000</td>\n",
       "      <td>45448.000000</td>\n",
       "      <td>151193.000000</td>\n",
       "      <td>74037.000000</td>\n",
       "      <td>34978.000000</td>\n",
       "      <td>11705.000000</td>\n",
       "      <td>18060.000000</td>\n",
       "      <td>1.000000</td>\n",
       "    </tr>\n",
       "  </tbody>\n",
       "</table>\n",
       "</div>"
      ],
      "text/plain": [
       "             Rating        price1     actprice1      norating1    noreviews1  \\\n",
       "count  12146.000000  12146.000000  12146.000000   11470.000000  11570.000000   \n",
       "mean       4.013404    686.098551   1375.208464    3133.618832    433.690579   \n",
       "std        0.297640    656.845549   1251.216150   12263.105583   1835.598768   \n",
       "min        0.000000     69.000000     42.000000       1.000000      0.000000   \n",
       "25%        3.900000    349.000000    699.000000      66.000000      9.000000   \n",
       "50%        4.000000    474.000000    999.000000     306.500000     43.000000   \n",
       "75%        4.200000    679.000000   1299.000000    1544.500000    215.000000   \n",
       "max        5.000000   5998.000000  13499.000000  289973.000000  45448.000000   \n",
       "\n",
       "             star_5f       star_4f       star_3f       star_2f       star_1f  \\\n",
       "count   11560.000000  11608.000000  11915.000000  12146.000000  12146.000000   \n",
       "mean     1614.651038    671.278515    367.815191    159.684341    282.424255   \n",
       "std      6367.243061   2970.722922   1452.210048    579.489444    989.539144   \n",
       "min         0.000000      0.000000      0.000000      0.000000      0.000000   \n",
       "25%        31.000000     12.000000      7.000000      3.000000      6.000000   \n",
       "50%       151.000000     60.000000     34.000000     17.000000     29.000000   \n",
       "75%       790.000000    308.000000    173.000000     78.000000    141.000000   \n",
       "max    151193.000000  74037.000000  34978.000000  11705.000000  18060.000000   \n",
       "\n",
       "         fulfilled1  \n",
       "count  12146.000000  \n",
       "mean       0.602338  \n",
       "std        0.489435  \n",
       "min        0.000000  \n",
       "25%        0.000000  \n",
       "50%        1.000000  \n",
       "75%        1.000000  \n",
       "max        1.000000  "
      ]
     },
     "execution_count": 9,
     "metadata": {},
     "output_type": "execute_result"
    }
   ],
   "source": [
    "df.describe()"
   ]
  },
  {
   "cell_type": "markdown",
   "id": "d7fe9346",
   "metadata": {},
   "source": [
    "### Exploratory Data Analysis"
   ]
  },
  {
   "cell_type": "code",
   "execution_count": 10,
   "id": "8ee9c68a",
   "metadata": {},
   "outputs": [],
   "source": [
    "x = df.drop(columns=['price1'])\n",
    "y = df['price1']"
   ]
  },
  {
   "cell_type": "code",
   "execution_count": 11,
   "id": "a9e878e3",
   "metadata": {},
   "outputs": [
    {
     "data": {
      "text/plain": [
       "['Rating',\n",
       " 'actprice1',\n",
       " 'norating1',\n",
       " 'noreviews1',\n",
       " 'star_5f',\n",
       " 'star_4f',\n",
       " 'star_3f',\n",
       " 'star_2f',\n",
       " 'star_1f',\n",
       " 'fulfilled1']"
      ]
     },
     "execution_count": 11,
     "metadata": {},
     "output_type": "execute_result"
    }
   ],
   "source": [
    "num_feature = x.select_dtypes(include=np.number).columns.tolist()\n",
    "num_feature"
   ]
  },
  {
   "cell_type": "code",
   "execution_count": 12,
   "id": "2fef25f2",
   "metadata": {},
   "outputs": [
    {
     "data": {
      "text/plain": [
       "['title', 'maincateg', 'platform']"
      ]
     },
     "execution_count": 12,
     "metadata": {},
     "output_type": "execute_result"
    }
   ],
   "source": [
    "cat_feature = x.select_dtypes(include='object').columns.tolist()\n",
    "cat_feature"
   ]
  },
  {
   "cell_type": "code",
   "execution_count": 13,
   "id": "a1d9cc10",
   "metadata": {},
   "outputs": [
    {
     "data": {
      "image/png": "[encoded data removed]",
      "text/plain": [
       "<Figure size 360x288 with 1 Axes>"
      ]
     },
     "metadata": {
      "needs_background": "light"
     },
     "output_type": "display_data"
    },
    {
     "data": {
      "image/png": "[encoded data removed]",
      "text/plain": [
       "<Figure size 360x288 with 1 Axes>"
      ]
     },
     "metadata": {
      "needs_background": "light"
     },
     "output_type": "display_data"
    },
    {
     "data": {
      "image/png": "[encoded data removed]",
      "text/plain": [
       "<Figure size 360x288 with 1 Axes>"
      ]
     },
     "metadata": {
      "needs_background": "light"
     },
     "output_type": "display_data"
    },
    {
     "data": {
      "image/png": "[encoded data removed]",
      "text/plain": [
       "<Figure size 360x288 with 1 Axes>"
      ]
     },
     "metadata": {
      "needs_background": "light"
     },
     "output_type": "display_data"
    },
    {
     "data": {
      "image/png": "[encoded data removed]",
      "text/plain": [
       "<Figure size 360x288 with 1 Axes>"
      ]
     },
     "metadata": {
      "needs_background": "light"
     },
     "output_type": "display_data"
    },
    {
     "data": {
      "image/png": "[encoded data removed]",
      "text/plain": [
       "<Figure size 360x288 with 1 Axes>"
      ]
     },
     "metadata": {
      "needs_background": "light"
     },
     "output_type": "display_data"
    },
    {
     "data": {
      "image/png": "[encoded data removed]",
      "text/plain": [
       "<Figure size 360x288 with 1 Axes>"
      ]
     },
     "metadata": {
      "needs_background": "light"
     },
     "output_type": "display_data"
    },
    {
     "data": {
      "image/png": "[encoded data removed]",
      "text/plain": [
       "<Figure size 360x288 with 1 Axes>"
      ]
     },
     "metadata": {
      "needs_background": "light"
     },
     "output_type": "display_data"
    },
    {
     "data": {
      "image/png": "[encoded data removed]",
      "text/plain": [
       "<Figure size 360x288 with 1 Axes>"
      ]
     },
     "metadata": {
      "needs_background": "light"
     },
     "output_type": "display_data"
    },
    {
     "data": {
      "image/png": "[encoded data removed]",
      "text/plain": [
       "<Figure size 360x288 with 1 Axes>"
      ]
     },
     "metadata": {
      "needs_background": "light"
     },
     "output_type": "display_data"
    }
   ],
   "source": [
    "for feature in num_feature:\n",
    "    f = plt.figure()\n",
    "    f.set_figwidth(5)\n",
    "    f.set_figheight(4)\n",
    "    sns.scatterplot(x=df['price1'],y=df[feature])\n",
    "    plt.show()"
   ]
  },
  {
   "cell_type": "markdown",
   "id": "5cd437c0",
   "metadata": {},
   "source": [
    "One thing we can conclude from above graphs is - as there is an increase in actual price, discounted price is also increasing."
   ]
  },
  {
   "cell_type": "code",
   "execution_count": 14,
   "id": "b62af9aa",
   "metadata": {},
   "outputs": [
    {
     "data": {
      "image/png": "[encoded data removed]",
      "text/plain": [
       "<Figure size 1152x576 with 2 Axes>"
      ]
     },
     "metadata": {
      "needs_background": "light"
     },
     "output_type": "display_data"
    }
   ],
   "source": [
    "fig=plt.figure(figsize=(16, 8))\n",
    "corr_mat = df.corr()\n",
    "sns.heatmap(corr_mat,cmap='Greens',annot=True);"
   ]
  },
  {
   "cell_type": "markdown",
   "id": "2ca98677",
   "metadata": {},
   "source": [
    "All features are very weakly negatively correlated with target variable except Rating, fulfilled1 (positively correlated) and actprice1 (very highly positively correlated)."
   ]
  },
  {
   "cell_type": "code",
   "execution_count": 15,
   "id": "ac65ab30",
   "metadata": {},
   "outputs": [
    {
     "name": "stdout",
     "output_type": "stream",
     "text": [
      "Flipkart    0.982299\n",
      "Amazon      0.017701\n",
      "Name: platform, dtype: float64\n"
     ]
    },
    {
     "data": {
      "image/png": "[encoded data removed]",
      "text/plain": [
       "<Figure size 432x288 with 1 Axes>"
      ]
     },
     "metadata": {
      "needs_background": "light"
     },
     "output_type": "display_data"
    }
   ],
   "source": [
    "sns.countplot(x=df['platform']);\n",
    "print(df['platform'].value_counts(normalize=True))"
   ]
  },
  {
   "cell_type": "markdown",
   "id": "065fa82e",
   "metadata": {},
   "source": [
    "Flipkart usage is 98.22 % as compared to amazon which has been used only 1.77 %"
   ]
  },
  {
   "cell_type": "code",
   "execution_count": 16,
   "id": "f1632ea0",
   "metadata": {},
   "outputs": [
    {
     "data": {
      "image/png": "[encoded data removed]",
      "text/plain": [
       "<Figure size 432x288 with 1 Axes>"
      ]
     },
     "metadata": {
      "needs_background": "light"
     },
     "output_type": "display_data"
    }
   ],
   "source": [
    "avg_pr = df['actprice1'].groupby(df['platform']).mean()\n",
    "avg_pr.plot(kind='bar');"
   ]
  },
  {
   "cell_type": "code",
   "execution_count": 17,
   "id": "7d375459",
   "metadata": {},
   "outputs": [
    {
     "data": {
      "image/png": "[encoded data removed]",
      "text/plain": [
       "<Figure size 432x288 with 1 Axes>"
      ]
     },
     "metadata": {
      "needs_background": "light"
     },
     "output_type": "display_data"
    }
   ],
   "source": [
    "avg_rat = df['Rating'].groupby(df['platform']).mean()\n",
    "avg_rat.plot(kind='bar');"
   ]
  },
  {
   "cell_type": "markdown",
   "id": "e24acc44",
   "metadata": {},
   "source": [
    "Average prices for the products sold on flipkart and amazon doesnt have any large difference and same goes for average rating. Therefore, there is no significant reason for more usage of flipkart platform than amazon."
   ]
  },
  {
   "cell_type": "code",
   "execution_count": 18,
   "id": "c0975433",
   "metadata": {},
   "outputs": [
    {
     "name": "stdout",
     "output_type": "stream",
     "text": [
      "Women    0.589622\n",
      "Men      0.410378\n",
      "Name: maincateg, dtype: float64\n"
     ]
    },
    {
     "data": {
      "image/png": "[encoded data removed]",
      "text/plain": [
       "<Figure size 432x288 with 1 Axes>"
      ]
     },
     "metadata": {
      "needs_background": "light"
     },
     "output_type": "display_data"
    }
   ],
   "source": [
    "sns.countplot(x=df['maincateg'])\n",
    "print(df['maincateg'].value_counts(normalize=True))"
   ]
  },
  {
   "cell_type": "markdown",
   "id": "7f5ccb0c",
   "metadata": {},
   "source": [
    "Products available for women are more than men which is 58.96 % and 41.03 % of men."
   ]
  },
  {
   "cell_type": "code",
   "execution_count": 19,
   "id": "e703fafc",
   "metadata": {},
   "outputs": [
    {
     "data": {
      "image/png": "[encoded data removed]",
      "text/plain": [
       "<Figure size 432x288 with 1 Axes>"
      ]
     },
     "metadata": {
      "needs_background": "light"
     },
     "output_type": "display_data"
    }
   ],
   "source": [
    "avg_prices = df['actprice1'].groupby(df['maincateg']).mean()\n",
    "avg_prices.plot(kind='bar');"
   ]
  },
  {
   "cell_type": "code",
   "execution_count": 20,
   "id": "2db3269a",
   "metadata": {},
   "outputs": [
    {
     "data": {
      "image/png": "[encoded data removed]",
      "text/plain": [
       "<Figure size 432x288 with 1 Axes>"
      ]
     },
     "metadata": {
      "needs_background": "light"
     },
     "output_type": "display_data"
    }
   ],
   "source": [
    "avg_rating = df['Rating'].groupby(df['maincateg']).mean()\n",
    "avg_rating.plot(kind='bar');"
   ]
  },
  {
   "cell_type": "code",
   "execution_count": 21,
   "id": "368ae1fe",
   "metadata": {},
   "outputs": [
    {
     "data": {
      "image/png": "[encoded data removed]",
      "text/plain": [
       "<Figure size 432x288 with 1 Axes>"
      ]
     },
     "metadata": {
      "needs_background": "light"
     },
     "output_type": "display_data"
    }
   ],
   "source": [
    "sns.histplot(data=df,x=df['actprice1'],bins=8);"
   ]
  },
  {
   "cell_type": "markdown",
   "id": "333538f8",
   "metadata": {},
   "source": [
    "Very high number of products are avaialble in the price range of 0-1900 compared to other ranges."
   ]
  },
  {
   "cell_type": "markdown",
   "id": "6c1a3e80",
   "metadata": {},
   "source": [
    "### Feature Engineering"
   ]
  },
  {
   "cell_type": "code",
   "execution_count": 22,
   "id": "fde6c3fc",
   "metadata": {},
   "outputs": [],
   "source": [
    "x = df.drop(columns=['price1'])\n",
    "y = df['price1']"
   ]
  },
  {
   "cell_type": "code",
   "execution_count": 23,
   "id": "edeb4b2c",
   "metadata": {},
   "outputs": [
    {
     "data": {
      "text/plain": [
       "((12146, 13), (12146,))"
      ]
     },
     "execution_count": 23,
     "metadata": {},
     "output_type": "execute_result"
    }
   ],
   "source": [
    "x.shape, y.shape"
   ]
  },
  {
   "cell_type": "code",
   "execution_count": 24,
   "id": "25633c1e",
   "metadata": {},
   "outputs": [],
   "source": [
    "train, test = train_test_split(df, test_size=0.15, random_state=42)"
   ]
  },
  {
   "cell_type": "code",
   "execution_count": 25,
   "id": "f5c55760",
   "metadata": {},
   "outputs": [
    {
     "data": {
      "text/plain": [
       "((10324, 14), (1822, 14))"
      ]
     },
     "execution_count": 25,
     "metadata": {},
     "output_type": "execute_result"
    }
   ],
   "source": [
    "train.shape, test.shape"
   ]
  },
  {
   "cell_type": "code",
   "execution_count": 26,
   "id": "24f1d585",
   "metadata": {},
   "outputs": [],
   "source": [
    "# Imputing missing values with mean of their respective columns.\n",
    "def mis_val(data):\n",
    "    data['star_5f'] = data['star_5f'].fillna(data['star_5f'].median())\n",
    "    data['star_4f'] = data['star_4f'].fillna(data['star_4f'].median())\n",
    "    data['star_3f'] = data['star_3f'].fillna(data['star_3f'].median())"
   ]
  },
  {
   "cell_type": "code",
   "execution_count": 27,
   "id": "9836d905",
   "metadata": {},
   "outputs": [],
   "source": [
    "#Imputing missing values of norating1 with sum of star ratings\n",
    "def mis_norat(data):\n",
    "    data['norating1']=data[data['norating1'].isna()]['norating1']=data['star_5f']+data['star_4f']+data['star_3f']+data['star_2f']+data['star_1f']"
   ]
  },
  {
   "cell_type": "code",
   "execution_count": 28,
   "id": "2f8ae70a",
   "metadata": {},
   "outputs": [],
   "source": [
    "# Assigning maincateg according to the title name as much as possible and deleting rest of the rows having NaN values.\n",
    "def mis_maincat(data):\n",
    "    data.loc[(data['maincateg'].isna()) & data['title'].str.contains('Women',case=False),'maincateg']='Women'\n",
    "    data.loc[(data['maincateg'].isna()) & data['title'].str.contains('Men',case=True),'maincateg']='Men'\n",
    "    data.dropna(subset=['maincateg'],inplace=True)"
   ]
  },
  {
   "cell_type": "code",
   "execution_count": 29,
   "id": "f448eb91",
   "metadata": {},
   "outputs": [],
   "source": [
    "# Assigning missing values of norating1 with median of all the star ratings.\n",
    "def mis_norev(data):\n",
    "    data.loc[(data['noreviews1'].isna()),'noreviews1'] = data.loc[:,[\"star_5f\",\"star_4f\",\"star_3f\",\"star_2f\",\"star_1f\"]].median(axis=1)"
   ]
  },
  {
   "cell_type": "code",
   "execution_count": 30,
   "id": "905685b8",
   "metadata": {},
   "outputs": [],
   "source": [
    "mis_val(train)\n",
    "mis_norat(train)\n",
    "mis_maincat(train)\n",
    "mis_norev(train)\n",
    "train.drop(columns=['title'],inplace=True)\n",
    "test['star_5f'] = test['star_5f'].fillna(train['star_5f'].median())\n",
    "test['star_4f'] = test['star_4f'].fillna(train['star_4f'].median())\n",
    "test['star_3f'] = test['star_3f'].fillna(train['star_3f'].median())\n",
    "mis_norat(test)\n",
    "mis_maincat(test)\n",
    "mis_norev(test)\n",
    "test.drop(columns=['title'],inplace=True)"
   ]
  },
  {
   "cell_type": "code",
   "execution_count": 31,
   "id": "52762ee2",
   "metadata": {},
   "outputs": [
    {
     "name": "stdout",
     "output_type": "stream",
     "text": [
      "<class 'pandas.core.frame.DataFrame'>\n",
      "Int64Index: 10275 entries, 9985 to 8484\n",
      "Data columns (total 13 columns):\n",
      " #   Column      Non-Null Count  Dtype  \n",
      "---  ------      --------------  -----  \n",
      " 0   Rating      10275 non-null  float64\n",
      " 1   maincateg   10275 non-null  object \n",
      " 2   platform    10275 non-null  object \n",
      " 3   price1      10275 non-null  int64  \n",
      " 4   actprice1   10275 non-null  int64  \n",
      " 5   norating1   10275 non-null  float64\n",
      " 6   noreviews1  10275 non-null  float64\n",
      " 7   star_5f     10275 non-null  float64\n",
      " 8   star_4f     10275 non-null  float64\n",
      " 9   star_3f     10275 non-null  float64\n",
      " 10  star_2f     10275 non-null  int64  \n",
      " 11  star_1f     10275 non-null  int64  \n",
      " 12  fulfilled1  10275 non-null  int64  \n",
      "dtypes: float64(6), int64(5), object(2)\n",
      "memory usage: 1.3+ MB\n"
     ]
    }
   ],
   "source": [
    "train.info()"
   ]
  },
  {
   "cell_type": "code",
   "execution_count": 32,
   "id": "72977a43",
   "metadata": {},
   "outputs": [
    {
     "name": "stdout",
     "output_type": "stream",
     "text": [
      "<class 'pandas.core.frame.DataFrame'>\n",
      "Int64Index: 1813 entries, 7355 to 1179\n",
      "Data columns (total 13 columns):\n",
      " #   Column      Non-Null Count  Dtype  \n",
      "---  ------      --------------  -----  \n",
      " 0   Rating      1813 non-null   float64\n",
      " 1   maincateg   1813 non-null   object \n",
      " 2   platform    1813 non-null   object \n",
      " 3   price1      1813 non-null   int64  \n",
      " 4   actprice1   1813 non-null   int64  \n",
      " 5   norating1   1813 non-null   float64\n",
      " 6   noreviews1  1813 non-null   float64\n",
      " 7   star_5f     1813 non-null   float64\n",
      " 8   star_4f     1813 non-null   float64\n",
      " 9   star_3f     1813 non-null   float64\n",
      " 10  star_2f     1813 non-null   int64  \n",
      " 11  star_1f     1813 non-null   int64  \n",
      " 12  fulfilled1  1813 non-null   int64  \n",
      "dtypes: float64(6), int64(5), object(2)\n",
      "memory usage: 262.8+ KB\n"
     ]
    }
   ],
   "source": [
    "test.info()"
   ]
  },
  {
   "cell_type": "code",
   "execution_count": 33,
   "id": "408d0997",
   "metadata": {},
   "outputs": [
    {
     "data": {
      "text/plain": [
       "((10275, 12), (10275,), (1813, 12), (1813,))"
      ]
     },
     "execution_count": 33,
     "metadata": {},
     "output_type": "execute_result"
    }
   ],
   "source": [
    "x_train = train.drop(columns=['price1'])\n",
    "y_train = train['price1']\n",
    "x_test = test.drop(columns=['price1'])\n",
    "y_test = test['price1']\n",
    "x_train.shape, y_train.shape, x_test.shape, y_test.shape"
   ]
  },
  {
   "cell_type": "code",
   "execution_count": 34,
   "id": "03d6ac53",
   "metadata": {},
   "outputs": [],
   "source": [
    "x_train=pd.get_dummies(x_train,columns=['maincateg','platform'])"
   ]
  },
  {
   "cell_type": "code",
   "execution_count": 35,
   "id": "a473db5a",
   "metadata": {},
   "outputs": [],
   "source": [
    "x_test=pd.get_dummies(x_test,columns=['maincateg','platform'])"
   ]
  },
  {
   "cell_type": "markdown",
   "id": "d3714b08",
   "metadata": {},
   "source": [
    "### Model Training"
   ]
  },
  {
   "cell_type": "code",
   "execution_count": 36,
   "id": "b46b9476",
   "metadata": {},
   "outputs": [],
   "source": [
    "# Scaling the dataset\n",
    "scaler = MinMaxScaler()\n",
    "x_train_scaled=scaler.fit_transform(x_train)\n",
    "x_test_scaled=scaler.transform(x_test)"
   ]
  },
  {
   "cell_type": "code",
   "execution_count": 37,
   "id": "d9efe615",
   "metadata": {},
   "outputs": [],
   "source": [
    "def rmse(model, x_train_scaled, x_test_scaled, y_train, y_test):\n",
    "    model.fit(x_train_scaled,y_train)\n",
    "    predictions = model.predict(x_test_scaled)\n",
    "    print(mean_squared_error(y_test,predictions,squared=False))"
   ]
  },
  {
   "cell_type": "code",
   "execution_count": 38,
   "id": "df687f2b",
   "metadata": {},
   "outputs": [
    {
     "name": "stdout",
     "output_type": "stream",
     "text": [
      "283.5069815854097\n"
     ]
    }
   ],
   "source": [
    "rmse(LinearRegression(),x_train_scaled, x_test_scaled, y_train, y_test)"
   ]
  },
  {
   "cell_type": "code",
   "execution_count": 39,
   "id": "4c1644a0",
   "metadata": {},
   "outputs": [
    {
     "name": "stdout",
     "output_type": "stream",
     "text": [
      "295.5521353615239\n"
     ]
    }
   ],
   "source": [
    "rmse(DecisionTreeRegressor(random_state=42),x_train_scaled, x_test_scaled, y_train, y_test)"
   ]
  },
  {
   "cell_type": "code",
   "execution_count": 40,
   "id": "26e9f9b8",
   "metadata": {},
   "outputs": [
    {
     "name": "stdout",
     "output_type": "stream",
     "text": [
      "234.1021092900027\n"
     ]
    }
   ],
   "source": [
    "rmse(RandomForestRegressor(random_state=42),x_train_scaled, x_test_scaled, y_train, y_test)"
   ]
  },
  {
   "cell_type": "code",
   "execution_count": 41,
   "id": "46fa2ecb",
   "metadata": {},
   "outputs": [
    {
     "name": "stdout",
     "output_type": "stream",
     "text": [
      "583.7596898716924\n"
     ]
    }
   ],
   "source": [
    "rmse(SVR(),x_train_scaled, x_test_scaled, y_train, y_test)"
   ]
  },
  {
   "cell_type": "code",
   "execution_count": 42,
   "id": "a14f3672",
   "metadata": {},
   "outputs": [
    {
     "name": "stdout",
     "output_type": "stream",
     "text": [
      "253.2641765902953\n"
     ]
    }
   ],
   "source": [
    "rmse(KNeighborsRegressor(),x_train_scaled, x_test_scaled, y_train, y_test)"
   ]
  },
  {
   "cell_type": "code",
   "execution_count": 43,
   "id": "47e4f509",
   "metadata": {},
   "outputs": [
    {
     "name": "stdout",
     "output_type": "stream",
     "text": [
      "261.8113128203562\n"
     ]
    }
   ],
   "source": [
    "rmse(GradientBoostingRegressor(),x_train_scaled, x_test_scaled, y_train, y_test)"
   ]
  },
  {
   "cell_type": "code",
   "execution_count": 44,
   "id": "55096ce7",
   "metadata": {},
   "outputs": [
    {
     "name": "stdout",
     "output_type": "stream",
     "text": [
      "296.4518435282775\n"
     ]
    }
   ],
   "source": [
    "rmse(AdaBoostRegressor(),x_train_scaled, x_test_scaled, y_train, y_test)"
   ]
  },
  {
   "cell_type": "markdown",
   "id": "b5fc6075",
   "metadata": {},
   "source": [
    "From above models, RMSE score of Random Forest is less as compared to other models. Therefore, we will do hyperparameter tuning of random forest model."
   ]
  },
  {
   "cell_type": "code",
   "execution_count": 45,
   "id": "9dbb5769",
   "metadata": {},
   "outputs": [
    {
     "data": {
      "text/html": [
       "<div>\n",
       "<style scoped>\n",
       "    .dataframe tbody tr th:only-of-type {\n",
       "        vertical-align: middle;\n",
       "    }\n",
       "\n",
       "    .dataframe tbody tr th {\n",
       "        vertical-align: top;\n",
       "    }\n",
       "\n",
       "    .dataframe thead th {\n",
       "        text-align: right;\n",
       "    }\n",
       "</style>\n",
       "<table border=\"1\" class=\"dataframe\">\n",
       "  <thead>\n",
       "    <tr style=\"text-align: right;\">\n",
       "      <th></th>\n",
       "      <th>id</th>\n",
       "      <th>title</th>\n",
       "      <th>Rating</th>\n",
       "      <th>maincateg</th>\n",
       "      <th>platform</th>\n",
       "      <th>actprice1</th>\n",
       "      <th>norating1</th>\n",
       "      <th>noreviews1</th>\n",
       "      <th>star_5f</th>\n",
       "      <th>star_4f</th>\n",
       "      <th>star_3f</th>\n",
       "      <th>star_2f</th>\n",
       "      <th>star_1f</th>\n",
       "      <th>fulfilled1</th>\n",
       "    </tr>\n",
       "  </thead>\n",
       "  <tbody>\n",
       "    <tr>\n",
       "      <th>0</th>\n",
       "      <td>2242</td>\n",
       "      <td>Casuals For Men  (Blue)</td>\n",
       "      <td>3.8</td>\n",
       "      <td>Men</td>\n",
       "      <td>Flipkart</td>\n",
       "      <td>999</td>\n",
       "      <td>27928</td>\n",
       "      <td>3543</td>\n",
       "      <td>14238.0</td>\n",
       "      <td>4295</td>\n",
       "      <td>3457</td>\n",
       "      <td>1962</td>\n",
       "      <td>3976.0</td>\n",
       "      <td>1</td>\n",
       "    </tr>\n",
       "    <tr>\n",
       "      <th>1</th>\n",
       "      <td>20532</td>\n",
       "      <td>Women Black Flats Sandal</td>\n",
       "      <td>3.9</td>\n",
       "      <td>Women</td>\n",
       "      <td>Flipkart</td>\n",
       "      <td>499</td>\n",
       "      <td>3015</td>\n",
       "      <td>404</td>\n",
       "      <td>1458.0</td>\n",
       "      <td>657</td>\n",
       "      <td>397</td>\n",
       "      <td>182</td>\n",
       "      <td>321.0</td>\n",
       "      <td>1</td>\n",
       "    </tr>\n",
       "    <tr>\n",
       "      <th>2</th>\n",
       "      <td>10648</td>\n",
       "      <td>Women Gold Wedges Sandal</td>\n",
       "      <td>3.9</td>\n",
       "      <td>Women</td>\n",
       "      <td>Flipkart</td>\n",
       "      <td>999</td>\n",
       "      <td>449</td>\n",
       "      <td>52</td>\n",
       "      <td>229.0</td>\n",
       "      <td>70</td>\n",
       "      <td>71</td>\n",
       "      <td>33</td>\n",
       "      <td>46.0</td>\n",
       "      <td>1</td>\n",
       "    </tr>\n",
       "    <tr>\n",
       "      <th>3</th>\n",
       "      <td>20677</td>\n",
       "      <td>Men's Height Increasing High Heel Formal Party...</td>\n",
       "      <td>3.9</td>\n",
       "      <td>Men</td>\n",
       "      <td>Flipkart</td>\n",
       "      <td>2999</td>\n",
       "      <td>290</td>\n",
       "      <td>40</td>\n",
       "      <td>141.0</td>\n",
       "      <td>51</td>\n",
       "      <td>49</td>\n",
       "      <td>17</td>\n",
       "      <td>32.0</td>\n",
       "      <td>1</td>\n",
       "    </tr>\n",
       "    <tr>\n",
       "      <th>4</th>\n",
       "      <td>12593</td>\n",
       "      <td>Loafers For Men  (Tan)</td>\n",
       "      <td>3.9</td>\n",
       "      <td>Men</td>\n",
       "      <td>Flipkart</td>\n",
       "      <td>999</td>\n",
       "      <td>2423</td>\n",
       "      <td>326</td>\n",
       "      <td>1265.0</td>\n",
       "      <td>414</td>\n",
       "      <td>293</td>\n",
       "      <td>143</td>\n",
       "      <td>308.0</td>\n",
       "      <td>0</td>\n",
       "    </tr>\n",
       "  </tbody>\n",
       "</table>\n",
       "</div>"
      ],
      "text/plain": [
       "      id                                              title  Rating maincateg  \\\n",
       "0   2242                            Casuals For Men  (Blue)     3.8       Men   \n",
       "1  20532                           Women Black Flats Sandal     3.9     Women   \n",
       "2  10648                           Women Gold Wedges Sandal     3.9     Women   \n",
       "3  20677  Men's Height Increasing High Heel Formal Party...     3.9       Men   \n",
       "4  12593                             Loafers For Men  (Tan)     3.9       Men   \n",
       "\n",
       "   platform  actprice1  norating1  noreviews1  star_5f  star_4f  star_3f  \\\n",
       "0  Flipkart        999      27928        3543  14238.0     4295     3457   \n",
       "1  Flipkart        499       3015         404   1458.0      657      397   \n",
       "2  Flipkart        999        449          52    229.0       70       71   \n",
       "3  Flipkart       2999        290          40    141.0       51       49   \n",
       "4  Flipkart        999       2423         326   1265.0      414      293   \n",
       "\n",
       "   star_2f  star_1f  fulfilled1  \n",
       "0     1962   3976.0           1  \n",
       "1      182    321.0           1  \n",
       "2       33     46.0           1  \n",
       "3       17     32.0           1  \n",
       "4      143    308.0           0  "
      ]
     },
     "execution_count": 45,
     "metadata": {},
     "output_type": "execute_result"
    }
   ],
   "source": [
    "test_data = pd.read_csv(\"test.csv\")\n",
    "test_data_1 = test_data.copy()\n",
    "test_data.head()"
   ]
  },
  {
   "cell_type": "code",
   "execution_count": 46,
   "id": "f398f8f0",
   "metadata": {},
   "outputs": [
    {
     "name": "stdout",
     "output_type": "stream",
     "text": [
      "<class 'pandas.core.frame.DataFrame'>\n",
      "RangeIndex: 5244 entries, 0 to 5243\n",
      "Data columns (total 14 columns):\n",
      " #   Column      Non-Null Count  Dtype  \n",
      "---  ------      --------------  -----  \n",
      " 0   id          5244 non-null   int64  \n",
      " 1   title       5244 non-null   object \n",
      " 2   Rating      5041 non-null   float64\n",
      " 3   maincateg   5177 non-null   object \n",
      " 4   platform    5244 non-null   object \n",
      " 5   actprice1   5244 non-null   int64  \n",
      " 6   norating1   5244 non-null   int64  \n",
      " 7   noreviews1  5244 non-null   int64  \n",
      " 8   star_5f     5176 non-null   float64\n",
      " 9   star_4f     5244 non-null   int64  \n",
      " 10  star_3f     5244 non-null   int64  \n",
      " 11  star_2f     5244 non-null   int64  \n",
      " 12  star_1f     5058 non-null   float64\n",
      " 13  fulfilled1  5244 non-null   int64  \n",
      "dtypes: float64(3), int64(8), object(3)\n",
      "memory usage: 573.7+ KB\n"
     ]
    }
   ],
   "source": [
    "test_data.info()"
   ]
  },
  {
   "cell_type": "code",
   "execution_count": 47,
   "id": "db83a10c",
   "metadata": {},
   "outputs": [],
   "source": [
    "test_data['star_5f'] = test_data['star_5f'].fillna(train['star_5f'].median())\n",
    "test_data['star_1f'] = test_data['star_1f'].fillna(train['star_1f'].median())\n",
    "test_data.loc[(test_data['maincateg'].isna()) & test_data['title'].str.contains('Women',case=False),'maincateg']='Women'\n",
    "test_data.loc[(test_data['maincateg'].isna()) & test_data['title'].str.contains('Men',case=True),'maincateg']='Men'\n",
    "test_data['par'] = round((5*test_data['star_5f']+4*test_data['star_4f']+3*test_data['star_3f']+2*test_data['star_2f']+1*test_data['star_1f'])/test_data['norating1'],1)\n",
    "test_data['Rating'] = test_data['par']\n",
    "test_data.drop(columns=['par'],inplace=True)                                       "
   ]
  },
  {
   "cell_type": "code",
   "execution_count": 48,
   "id": "060649d7",
   "metadata": {},
   "outputs": [
    {
     "name": "stdout",
     "output_type": "stream",
     "text": [
      "<class 'pandas.core.frame.DataFrame'>\n",
      "RangeIndex: 5244 entries, 0 to 5243\n",
      "Data columns (total 12 columns):\n",
      " #   Column      Non-Null Count  Dtype  \n",
      "---  ------      --------------  -----  \n",
      " 0   Rating      5244 non-null   float64\n",
      " 1   maincateg   5244 non-null   object \n",
      " 2   platform    5244 non-null   object \n",
      " 3   actprice1   5244 non-null   int64  \n",
      " 4   norating1   5244 non-null   int64  \n",
      " 5   noreviews1  5244 non-null   int64  \n",
      " 6   star_5f     5244 non-null   float64\n",
      " 7   star_4f     5244 non-null   int64  \n",
      " 8   star_3f     5244 non-null   int64  \n",
      " 9   star_2f     5244 non-null   int64  \n",
      " 10  star_1f     5244 non-null   float64\n",
      " 11  fulfilled1  5244 non-null   int64  \n",
      "dtypes: float64(3), int64(7), object(2)\n",
      "memory usage: 491.8+ KB\n"
     ]
    }
   ],
   "source": [
    "test_data.loc[test_data['maincateg'].isna(),'maincateg']='Women'\n",
    "test_data.drop(columns=['title','id'],inplace=True)\n",
    "test_data.info()"
   ]
  },
  {
   "cell_type": "code",
   "execution_count": 49,
   "id": "9f64b46d",
   "metadata": {},
   "outputs": [
    {
     "data": {
      "text/plain": [
       "array([[7.60000000e-01, 7.11154046e-02, 9.63124153e-02, ...,\n",
       "        0.00000000e+00, 0.00000000e+00, 1.00000000e+00],\n",
       "       [7.80000000e-01, 3.39600208e-02, 1.03975198e-02, ...,\n",
       "        1.00000000e+00, 0.00000000e+00, 1.00000000e+00],\n",
       "       [7.80000000e-01, 7.11154046e-02, 1.54842003e-03, ...,\n",
       "        1.00000000e+00, 0.00000000e+00, 1.00000000e+00],\n",
       "       ...,\n",
       "       [7.60000000e-01, 7.11154046e-02, 4.41420408e-03, ...,\n",
       "        1.00000000e+00, 0.00000000e+00, 1.00000000e+00],\n",
       "       [7.80000000e-01, 3.39600208e-02, 1.67843213e-02, ...,\n",
       "        1.00000000e+00, 0.00000000e+00, 1.00000000e+00],\n",
       "       [5.30000000e+00, 5.25377127e-02, 2.75887755e-05, ...,\n",
       "        1.00000000e+00, 1.00000000e+00, 0.00000000e+00]])"
      ]
     },
     "execution_count": 49,
     "metadata": {},
     "output_type": "execute_result"
    }
   ],
   "source": [
    "test_data=pd.get_dummies(test_data,columns=['maincateg','platform'])\n",
    "test_data_scaled = scaler.transform(test_data)\n",
    "test_data_scaled"
   ]
  },
  {
   "cell_type": "code",
   "execution_count": 50,
   "id": "6bbd53c3",
   "metadata": {},
   "outputs": [],
   "source": [
    "mod = RandomForestRegressor()\n",
    "mod.fit(x_train_scaled,y_train)\n",
    "price1 = mod.predict(test_data_scaled)"
   ]
  },
  {
   "cell_type": "code",
   "execution_count": 51,
   "id": "e745d194",
   "metadata": {},
   "outputs": [
    {
     "data": {
      "text/plain": [
       "GridSearchCV(cv=5, estimator=RandomForestRegressor(random_state=42), n_jobs=-1,\n",
       "             param_grid={'bootstrap': ['True', 'False'],\n",
       "                         'max_depth': [5, 10, 15, 20, 25, 30],\n",
       "                         'max_features': ['auto', 'sqrt'],\n",
       "                         'n_estimators': [25, 50, 100, 150, 200]},\n",
       "             scoring='neg_root_mean_squared_error')"
      ]
     },
     "execution_count": 51,
     "metadata": {},
     "output_type": "execute_result"
    }
   ],
   "source": [
    "n_estimators = [25,50,100,150,200]\n",
    "max_features = ['auto','sqrt']\n",
    "max_depth = [5,10,15,20,25,30]\n",
    "bootstrap = ['True','False']\n",
    "\n",
    "parameters = {'n_estimators' : n_estimators,\n",
    "              'max_features' : max_features,\n",
    "               'max_depth' : max_depth,\n",
    "               'bootstrap' : bootstrap}\n",
    "\n",
    "grid_search = GridSearchCV(estimator=RandomForestRegressor(random_state=42),\n",
    "                          param_grid=parameters,scoring='neg_root_mean_squared_error',cv=5,n_jobs=-1)\n",
    "\n",
    "grid_search.fit(x_train_scaled,y_train) "
   ]
  },
  {
   "cell_type": "code",
   "execution_count": 52,
   "id": "d9376405",
   "metadata": {},
   "outputs": [
    {
     "data": {
      "text/plain": [
       "{'bootstrap': 'True',\n",
       " 'max_depth': 25,\n",
       " 'max_features': 'auto',\n",
       " 'n_estimators': 200}"
      ]
     },
     "execution_count": 52,
     "metadata": {},
     "output_type": "execute_result"
    }
   ],
   "source": [
    "grid_search.best_params_"
   ]
  },
  {
   "cell_type": "code",
   "execution_count": 53,
   "id": "17c19012",
   "metadata": {},
   "outputs": [
    {
     "name": "stdout",
     "output_type": "stream",
     "text": [
      "232.60375659557013\n"
     ]
    }
   ],
   "source": [
    "rmse(RandomForestRegressor(n_estimators=200, max_features='auto', max_depth=25, bootstrap=True,random_state=42),x_train_scaled, x_test_scaled, y_train, y_test)"
   ]
  },
  {
   "cell_type": "markdown",
   "id": "ddb57ff3",
   "metadata": {},
   "source": [
    "Here, we reduced RMSE from 234.1 to 232.6. So, now, we will use this model with these specific parameters to predict the actual test data."
   ]
  },
  {
   "cell_type": "code",
   "execution_count": 57,
   "id": "8644d66b",
   "metadata": {},
   "outputs": [],
   "source": [
    "mod = RandomForestRegressor(n_estimators=200, max_depth=25, max_features='auto', bootstrap=True, random_state=42)\n",
    "mod.fit(x_train_scaled,y_train)\n",
    "price1 = mod.predict(test_data_scaled)"
   ]
  },
  {
   "cell_type": "code",
   "execution_count": 58,
   "id": "41bc3cdb",
   "metadata": {},
   "outputs": [],
   "source": [
    "d = {'id': test_data_1['id'],\n",
    "    'price1': price1}\n",
    "df_f = pd.DataFrame(data=d)"
   ]
  },
  {
   "cell_type": "code",
   "execution_count": 59,
   "id": "4ebccc24",
   "metadata": {},
   "outputs": [],
   "source": [
    "df_f.to_csv(\"caps_preds.csv\",index=False)"
   ]
  },
  {
   "cell_type": "code",
   "execution_count": null,
   "id": "cadb3bbb",
   "metadata": {},
   "outputs": [],
   "source": []
  }
 ],
 "metadata": {
  "kernelspec": {
   "display_name": "Python 3",
   "language": "python",
   "name": "python3"
  },
  "language_info": {
   "codemirror_mode": {
    "name": "ipython",
    "version": 3
   },
   "file_extension": ".py",
   "mimetype": "text/x-python",
   "name": "python",
   "nbconvert_exporter": "python",
   "pygments_lexer": "ipython3",
   "version": "3.8.8"
  }
 },
 "nbformat": 4,
 "nbformat_minor": 5
}
